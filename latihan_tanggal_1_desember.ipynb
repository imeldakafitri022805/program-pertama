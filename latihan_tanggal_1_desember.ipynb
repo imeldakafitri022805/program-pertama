{
  "nbformat": 4,
  "nbformat_minor": 0,
  "metadata": {
    "colab": {
      "provenance": [],
      "authorship_tag": "ABX9TyNiRakJsyLFMXE8+yTbJyaX",
      "include_colab_link": true
    },
    "kernelspec": {
      "name": "python3",
      "display_name": "Python 3"
    },
    "language_info": {
      "name": "python"
    }
  },
  "cells": [
    {
      "cell_type": "markdown",
      "metadata": {
        "id": "view-in-github",
        "colab_type": "text"
      },
      "source": [
        "<a href=\"https://colab.research.google.com/github/imeldakafitri022805/program-pertama/blob/main/latihan_tanggal_1_desember.ipynb\" target=\"_parent\"><img src=\"https://colab.research.google.com/assets/colab-badge.svg\" alt=\"Open In Colab\"/></a>"
      ]
    },
    {
      "cell_type": "code",
      "source": [
        "if True:\n",
        "  print('kode program ini akan dieksekusi')\n",
        "if False:\n",
        "  print('kode program ini tidak akan dieksekusi')\n",
        "print('kode program ini akan selalu dieksekusi')"
      ],
      "metadata": {
        "colab": {
          "base_uri": "https://localhost:8080/"
        },
        "id": "GEoFI9Rhh-Cb",
        "outputId": "24be4929-8325-4857-a7df-7a6cbf180a49"
      },
      "execution_count": null,
      "outputs": [
        {
          "output_type": "stream",
          "name": "stdout",
          "text": [
            "kode program ini akan dieksekusi\n",
            "kode program ini akan selalu dieksekusi\n"
          ]
        }
      ]
    },
    {
      "cell_type": "code",
      "source": [
        "nilai = 90\n",
        "print('Nilai anda adalah:', nilai, '\\n')"
      ],
      "metadata": {
        "colab": {
          "base_uri": "https://localhost:8080/"
        },
        "id": "yraIaO6ikjVU",
        "outputId": "fe5aa6c6-2856-4497-9b1c-d8e8d50e889f"
      },
      "execution_count": null,
      "outputs": [
        {
          "output_type": "stream",
          "name": "stdout",
          "text": [
            "Nilai anda adalah: 90 \n",
            "\n"
          ]
        }
      ]
    },
    {
      "cell_type": "code",
      "source": [
        "if nilai>=70:\n",
        "  print('selamat anda lulus!')\n",
        "else:\n",
        "  print('maaf, anda tidak lulus.')"
      ],
      "metadata": {
        "colab": {
          "base_uri": "https://localhost:8080/"
        },
        "id": "ogMikdRvlR92",
        "outputId": "a952a707-f2b0-4787-8a75-df0a4a68b99f"
      },
      "execution_count": null,
      "outputs": [
        {
          "output_type": "stream",
          "name": "stdout",
          "text": [
            "selamat anda lulus!\n"
          ]
        }
      ]
    },
    {
      "cell_type": "code",
      "source": [
        "nilai = int(input('masukkan nilai: '))\n",
        "if nilai >= 90:\n",
        "  print('predikat A')\n",
        "elif nilai >= 80:\n",
        "  print('predikat B')\n",
        "elif nilai >= 60:\n",
        "   print('predikat C')\n",
        "elif nilai >= 40:\n",
        "   print('predikat D')\n",
        "else:\n",
        "  print('predikat E')\n",
        "\n"
      ],
      "metadata": {
        "colab": {
          "base_uri": "https://localhost:8080/"
        },
        "id": "97Pi6WEOmfzg",
        "outputId": "34a5e2b2-af53-48b4-8d45-f93d4317e72f"
      },
      "execution_count": null,
      "outputs": [
        {
          "output_type": "stream",
          "name": "stdout",
          "text": [
            "masukkan nilai: 80\n",
            "predikat B\n"
          ]
        }
      ]
    },
    {
      "cell_type": "code",
      "source": [
        "buah_yang_tersedia = ['jeruk', 'mangga', 'melon']\n",
        "buah_yang_dicari = input('Masukan nama buah dalam huruf kecil: ')\n",
        "\n",
        "if (buah_yang_dicari in buah_yang_tersedia):\n",
        "  print('Buah yang anda cari tersedia')\n",
        "else:\n",
        "  print('Buah yang anda cari tidak tersedia!')"
      ],
      "metadata": {
        "colab": {
          "base_uri": "https://localhost:8080/"
        },
        "id": "ZJ-v3ME-okZN",
        "outputId": "ed7fa3da-4ce6-4748-c097-815639d675d5"
      },
      "execution_count": null,
      "outputs": [
        {
          "output_type": "stream",
          "name": "stdout",
          "text": [
            "Masukan nama buah dalam huruf kecil: 'mangga':\n",
            "Buah yang anda cari tidak tersedia!\n"
          ]
        }
      ]
    },
    {
      "cell_type": "code",
      "source": [
        "nilai = int(input('Masukan nilai: '))\n",
        "usia = int(input('Masukkan usia: '))\n",
        "\n",
        "if nilai >= 75:\n",
        "  if (usia < 15):\n",
        "    print('selamat adek, kamu lulus!')\n",
        "  else:\n",
        "    print('selamat kakak, kamu lulus!')\n",
        "else:\n",
        "    if (usia < 15):\n",
        "      print('Mohon maaf dek, coba lagi ya!')\n",
        "    else:\n",
        "      print('Mohon maaf kak, coba lagi ya!')"
      ],
      "metadata": {
        "colab": {
          "base_uri": "https://localhost:8080/"
        },
        "id": "ZQM_zGLfqbvZ",
        "outputId": "02a5c508-f906-4e62-c630-554c790c087c"
      },
      "execution_count": null,
      "outputs": [
        {
          "output_type": "stream",
          "name": "stdout",
          "text": [
            "Masukan nilai: 90\n",
            "Masukkan usia: 18\n",
            "selamat kakak, kamu lulus!\n"
          ]
        }
      ]
    }
  ]
}