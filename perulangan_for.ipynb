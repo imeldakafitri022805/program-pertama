{
  "nbformat": 4,
  "nbformat_minor": 0,
  "metadata": {
    "colab": {
      "provenance": [],
      "toc_visible": true,
      "authorship_tag": "ABX9TyOcbxt1DrtQPwD3wDjDifib",
      "include_colab_link": true
    },
    "kernelspec": {
      "name": "python3",
      "display_name": "Python 3"
    },
    "language_info": {
      "name": "python"
    }
  },
  "cells": [
    {
      "cell_type": "markdown",
      "metadata": {
        "id": "view-in-github",
        "colab_type": "text"
      },
      "source": [
        "<a href=\"https://colab.research.google.com/github/imeldakafitri022805/program-pertama/blob/main/perulangan_for.ipynb\" target=\"_parent\"><img src=\"https://colab.research.google.com/assets/colab-badge.svg\" alt=\"Open In Colab\"/></a>"
      ]
    },
    {
      "cell_type": "code",
      "execution_count": 1,
      "metadata": {
        "colab": {
          "base_uri": "https://localhost:8080/"
        },
        "id": "EOC6K8ffHebw",
        "outputId": "ce25b8c4-cc61-4760-b982-12f5f82424cd"
      },
      "outputs": [
        {
          "output_type": "stream",
          "name": "stdout",
          "text": [
            "Jakarta\n",
            "Surabaya\n",
            "Depok\n",
            "Bekasi\n",
            "Solo\n",
            "Jakarta\n",
            "Semarang\n",
            "Makassar\n"
          ]
        }
      ],
      "source": [
        "listkota = [\n",
        "    'Jakarta', 'Surabaya', 'Depok', 'Bekasi', 'Solo',\n",
        "    'Jakarta', 'Semarang', 'Makassar'\n",
        "]\n",
        "\n",
        "for kota in listkota:\n",
        "  print(kota)"
      ]
    },
    {
      "cell_type": "code",
      "source": [
        "#urutan iterasi for dengan list\n",
        "listkota = [\n",
        "    'Jakarta', 'Surabaya', 'Depok', 'Bekasi', 'Solo',\n",
        "    'Jakarta', 'Semarang', 'Makassar'\n",
        "]\n",
        "\n",
        "for i, kota in enumerate(listkota):\n",
        "  print(i, kota)\n"
      ],
      "metadata": {
        "colab": {
          "base_uri": "https://localhost:8080/"
        },
        "id": "jtfre7zzMLgz",
        "outputId": "7c490eef-def7-47af-a075-91d2f5865b1a"
      },
      "execution_count": 3,
      "outputs": [
        {
          "output_type": "stream",
          "name": "stdout",
          "text": [
            "0 Jakarta\n",
            "1 Surabaya\n",
            "2 Depok\n",
            "3 Bekasi\n",
            "4 Solo\n",
            "5 Jakarta\n",
            "6 Semarang\n",
            "7 Makassar\n"
          ]
        }
      ]
    },
    {
      "cell_type": "code",
      "source": [
        "#for dengan fungsi rangel()\n",
        "## 0 sampai 4\n",
        "for i in range(5):\n",
        "  print(\"perulangan ke -\", i)"
      ],
      "metadata": {
        "colab": {
          "base_uri": "https://localhost:8080/"
        },
        "id": "zyXBGepZNw0b",
        "outputId": "b47ba15d-d9a7-418e-9c97-9ea9e3fac2e6"
      },
      "execution_count": 4,
      "outputs": [
        {
          "output_type": "stream",
          "name": "stdout",
          "text": [
            "perulangan ke - 0\n",
            "perulangan ke - 1\n",
            "perulangan ke - 2\n",
            "perulangan ke - 3\n",
            "perulangan ke - 4\n"
          ]
        }
      ]
    },
    {
      "cell_type": "code",
      "source": [
        "#range dari selain 0\n",
        "## 10 sampai 15\n",
        "for i in range(10, 16):\n",
        "  print('i -', i)"
      ],
      "metadata": {
        "colab": {
          "base_uri": "https://localhost:8080/"
        },
        "id": "d7guyizJN_ri",
        "outputId": "55b110e5-d951-41a8-e46f-e72cda5cb746"
      },
      "execution_count": 5,
      "outputs": [
        {
          "output_type": "stream",
          "name": "stdout",
          "text": [
            "i - 10\n",
            "i - 11\n",
            "i - 12\n",
            "i - 13\n",
            "i - 14\n",
            "i - 15\n"
          ]
        }
      ]
    },
    {
      "cell_type": "code",
      "source": [
        "## bilangan genap kelipatan 2\n",
        "for i in range(2, 12, 2):\n",
        "  print('i =', i)"
      ],
      "metadata": {
        "colab": {
          "base_uri": "https://localhost:8080/"
        },
        "id": "8rbEFrv9PsOk",
        "outputId": "63102937-52cd-4cfe-f42a-7d4c70598bad"
      },
      "execution_count": 6,
      "outputs": [
        {
          "output_type": "stream",
          "name": "stdout",
          "text": [
            "i = 2\n",
            "i = 4\n",
            "i = 6\n",
            "i = 8\n",
            "i = 10\n"
          ]
        }
      ]
    },
    {
      "cell_type": "code",
      "source": [
        "## bilangan ganjil kelipatan 2\n",
        "for bilangan_ganjil in range(1, 12, 2):\n",
        "  print(bilangan_ganjil)"
      ],
      "metadata": {
        "colab": {
          "base_uri": "https://localhost:8080/"
        },
        "id": "ysBvw86-QJkQ",
        "outputId": "e7fbedfd-edff-491c-cd32-2f401eb768ce"
      },
      "execution_count": 7,
      "outputs": [
        {
          "output_type": "stream",
          "name": "stdout",
          "text": [
            "1\n",
            "3\n",
            "5\n",
            "7\n",
            "9\n",
            "11\n"
          ]
        }
      ]
    },
    {
      "cell_type": "code",
      "source": [
        "## for dengan tuple\n",
        "\n",
        "tupleBuah = ('Mangga', 'Jeruk', 'Apel', 'Pepaya')\n",
        "\n",
        "for buah in tupleBuah:\n",
        "  print(buah)"
      ],
      "metadata": {
        "colab": {
          "base_uri": "https://localhost:8080/"
        },
        "id": "NrAdymjGQlUD",
        "outputId": "0f45a94f-c280-4d9f-efdb-7a497d0c46ee"
      },
      "execution_count": 8,
      "outputs": [
        {
          "output_type": "stream",
          "name": "stdout",
          "text": [
            "Mangga\n",
            "Jeruk\n",
            "Apel\n",
            "Pepaya\n"
          ]
        }
      ]
    },
    {
      "cell_type": "code",
      "source": [
        "## string pun bersifat iterable, hingga bisa jadi objek perulangan.\n",
        "\n",
        "for karakter in \"indonesiaID\":\n",
        "  print(karakter)"
      ],
      "metadata": {
        "colab": {
          "base_uri": "https://localhost:8080/"
        },
        "id": "NfANUp-_Rmox",
        "outputId": "fc1ed479-f356-4558-8b40-2c777d84f5e4"
      },
      "execution_count": 10,
      "outputs": [
        {
          "output_type": "stream",
          "name": "stdout",
          "text": [
            "i\n",
            "n\n",
            "d\n",
            "o\n",
            "n\n",
            "e\n",
            "s\n",
            "i\n",
            "a\n",
            "I\n",
            "D\n"
          ]
        }
      ]
    },
    {
      "cell_type": "code",
      "source": [
        "## break dan continue\n",
        "for i in range(10, 20):\n",
        "  # skip jika i == 15\n",
        "  if (i == 15):\n",
        "    continue\n",
        "\n",
        "  print(i)"
      ],
      "metadata": {
        "colab": {
          "base_uri": "https://localhost:8080/"
        },
        "id": "xYVGR9V7UpkF",
        "outputId": "26724499-4567-4bf0-a8d0-5dc51aef8dd4"
      },
      "execution_count": 11,
      "outputs": [
        {
          "output_type": "stream",
          "name": "stdout",
          "text": [
            "10\n",
            "11\n",
            "12\n",
            "13\n",
            "14\n",
            "16\n",
            "17\n",
            "18\n",
            "19\n"
          ]
        }
      ]
    },
    {
      "cell_type": "code",
      "source": [
        "for i in range(10, 20):\n",
        "  # hentikan jika i == 15\n",
        "  if (i == 15):\n",
        "    break\n",
        "\n",
        "  print(i)"
      ],
      "metadata": {
        "colab": {
          "base_uri": "https://localhost:8080/"
        },
        "id": "5tGwpVZRVd1b",
        "outputId": "28fa4558-b261-48a3-f426-5a92ba613182"
      },
      "execution_count": 12,
      "outputs": [
        {
          "output_type": "stream",
          "name": "stdout",
          "text": [
            "10\n",
            "11\n",
            "12\n",
            "13\n",
            "14\n"
          ]
        }
      ]
    },
    {
      "cell_type": "code",
      "source": [
        "## for else\n",
        "listkota = [\n",
        "    'Jakarta', 'Surabaya', 'Depok', 'Bekasi', 'Solo',\n",
        "    'Jakarta', 'Semarang', 'Makassar'\n",
        "]\n",
        "\n",
        "for kota in listkota:\n",
        "  print(kota)\n",
        "else:\n",
        "  print('Tidak ada lagi yang tersisa')"
      ],
      "metadata": {
        "colab": {
          "base_uri": "https://localhost:8080/"
        },
        "id": "UlDFBhi-V8v4",
        "outputId": "d492b7a9-5791-48dd-d68e-e393579e6b69"
      },
      "execution_count": 13,
      "outputs": [
        {
          "output_type": "stream",
          "name": "stdout",
          "text": [
            "Jakarta\n",
            "Surabaya\n",
            "Depok\n",
            "Bekasi\n",
            "Solo\n",
            "Jakarta\n",
            "Semarang\n",
            "Makassar\n",
            "Tidak ada lagi yang tersisa\n"
          ]
        }
      ]
    },
    {
      "cell_type": "code",
      "source": [
        "## for else + break\n",
        "listkota = [\n",
        "    'Jakarta', 'Surabaya', 'Depok', 'Bekasi', 'Solo',\n",
        "    'Jakarta', 'Semarang', 'Makassar'\n",
        "]\n",
        "\n",
        "KotaYangDicari = input('Ketik nama kota yang kamu cari: ')\n",
        "\n",
        "for i, kota in enumerate(listkota):\n",
        "  ## kita ubah katanya ke lowercase agar\n",
        "  ## menjadi case insensitive\n",
        "  if kota.lower() == KotaYangDicari.lower():\n",
        "    print('Kota yang anda cari berada pada indeks', i)\n",
        "    break\n",
        "else:\n",
        "  print('Maaf, kota yang anda cari tidak ada')"
      ],
      "metadata": {
        "colab": {
          "base_uri": "https://localhost:8080/"
        },
        "id": "LNW9bvLVWgRO",
        "outputId": "36e96fc3-81d4-4845-9822-e31adf7e8a03"
      },
      "execution_count": 14,
      "outputs": [
        {
          "output_type": "stream",
          "name": "stdout",
          "text": [
            "Ketik nama kota yang kamu cari: solo\n",
            "Kota yang anda cari berada pada indeks 4\n"
          ]
        }
      ]
    },
    {
      "cell_type": "code",
      "source": [
        "## for else + break\n",
        "listkota = [\n",
        "    'Jakarta', 'Surabaya', 'Depok', 'Bekasi', 'Solo',\n",
        "    'Jakarta', 'Semarang', 'Makassar'\n",
        "]\n",
        "\n",
        "KotaYangDicari = input('Ketik nama kota yang kamu cari: ')\n",
        "\n",
        "for i, kota in enumerate(listkota):\n",
        "  ## kita ubah katanya ke lowercase agar\n",
        "  ## menjadi case insensitive\n",
        "  if kota.lower() == KotaYangDicari.lower():\n",
        "    print('Kota yang anda cari berada pada indeks', i)\n",
        "    break\n",
        "else:\n",
        "  print('Maaf, kota yang anda cari tidak ada')"
      ],
      "metadata": {
        "colab": {
          "base_uri": "https://localhost:8080/"
        },
        "id": "8DNnQq1-YHbw",
        "outputId": "be87e527-0945-4b57-b7d3-83a5126e85b8"
      },
      "execution_count": 15,
      "outputs": [
        {
          "output_type": "stream",
          "name": "stdout",
          "text": [
            "Ketik nama kota yang kamu cari: pontianak\n",
            "Maaf, kota yang anda cari tidak ada\n"
          ]
        }
      ]
    }
  ]
}