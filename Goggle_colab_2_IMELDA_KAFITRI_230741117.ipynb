{
  "nbformat": 4,
  "nbformat_minor": 0,
  "metadata": {
    "colab": {
      "provenance": [],
      "authorship_tag": "ABX9TyMXhlwOQ+rJXtrV2bmYFbIn",
      "include_colab_link": true
    },
    "kernelspec": {
      "name": "python3",
      "display_name": "Python 3"
    },
    "language_info": {
      "name": "python"
    }
  },
  "cells": [
    {
      "cell_type": "markdown",
      "metadata": {
        "id": "view-in-github",
        "colab_type": "text"
      },
      "source": [
        "<a href=\"https://colab.research.google.com/github/imeldakafitri022805/program-pertama/blob/main/Goggle_colab_2_IMELDA_KAFITRI_230741117.ipynb\" target=\"_parent\"><img src=\"https://colab.research.google.com/assets/colab-badge.svg\" alt=\"Open In Colab\"/></a>"
      ]
    },
    {
      "cell_type": "code",
      "execution_count": null,
      "metadata": {
        "id": "D9EdmQ_LEFuE"
      },
      "outputs": [],
      "source": [
        "tuple_ganjil = (9, 11, 13, 15)"
      ]
    },
    {
      "cell_type": "code",
      "source": [
        "print (\"isi tuple ganjil:\", tuple_ganjil)"
      ],
      "metadata": {
        "colab": {
          "base_uri": "https://localhost:8080/"
        },
        "id": "YwxRzc6zV5Sr",
        "outputId": "f594601d-a528-440d-b9a7-c21c9fd550cb"
      },
      "execution_count": null,
      "outputs": [
        {
          "output_type": "stream",
          "name": "stdout",
          "text": [
            "isi tuple ganjil: (9, 11, 13, 15)\n"
          ]
        }
      ]
    },
    {
      "cell_type": "code",
      "source": [
        "tuple_genap = (2, 4, 6, 8)"
      ],
      "metadata": {
        "id": "RZnoxjI2WQ1D"
      },
      "execution_count": null,
      "outputs": []
    },
    {
      "cell_type": "code",
      "source": [
        "print (\"isi tuple genap:\", tuple_genap)"
      ],
      "metadata": {
        "colab": {
          "base_uri": "https://localhost:8080/"
        },
        "id": "v4zsKbZ2WeiY",
        "outputId": "2e902fd6-acc8-4e68-c17a-8363ea073f36"
      },
      "execution_count": null,
      "outputs": [
        {
          "output_type": "stream",
          "name": "stdout",
          "text": [
            "isi tuple genap: (2, 4, 6, 8)\n"
          ]
        }
      ]
    },
    {
      "cell_type": "code",
      "source": [
        "tuple_prima = (11, 13, 17, 19)"
      ],
      "metadata": {
        "id": "OOsXnVs3Wr0F"
      },
      "execution_count": null,
      "outputs": []
    },
    {
      "cell_type": "code",
      "source": [
        "print (\"isi tuple prima:\", tuple_prima)"
      ],
      "metadata": {
        "colab": {
          "base_uri": "https://localhost:8080/"
        },
        "id": "tT90eY_BXEKU",
        "outputId": "4ae60b47-e1a0-408a-ea0e-9dd53c14552c"
      },
      "execution_count": null,
      "outputs": [
        {
          "output_type": "stream",
          "name": "stdout",
          "text": [
            "isi tuple prima: (11, 13, 17, 19)\n"
          ]
        }
      ]
    },
    {
      "cell_type": "code",
      "source": [
        "tuple_kata = (' Hallo', 'Saya', 'Adalah', ' Imelda kafitri')"
      ],
      "metadata": {
        "id": "Qp9iooDgXeLR"
      },
      "execution_count": null,
      "outputs": []
    },
    {
      "cell_type": "code",
      "source": [
        "print (\"isi tuple kata:\", tuple_kata)"
      ],
      "metadata": {
        "colab": {
          "base_uri": "https://localhost:8080/"
        },
        "id": "vpV3I1--X2Fa",
        "outputId": "39366e71-9830-4ed5-fee9-0ff50e57047e"
      },
      "execution_count": null,
      "outputs": [
        {
          "output_type": "stream",
          "name": "stdout",
          "text": [
            "isi tuple kata: (' Hallo', 'Saya', 'Adalah', ' Imelda kafitri')\n"
          ]
        }
      ]
    },
    {
      "cell_type": "code",
      "source": [
        "tuple_buah = ('Jambu', 'Kiwi', 'Apel', 'Alpukat')"
      ],
      "metadata": {
        "id": "v2VrXZFBXR47"
      },
      "execution_count": null,
      "outputs": []
    },
    {
      "cell_type": "code",
      "source": [
        "print (\"isi tuple buah:\", tuple_buah)"
      ],
      "metadata": {
        "colab": {
          "base_uri": "https://localhost:8080/"
        },
        "id": "062Iv5QPZETI",
        "outputId": "0b1dca37-aef5-44cc-b71e-051c0929eabe"
      },
      "execution_count": null,
      "outputs": [
        {
          "output_type": "stream",
          "name": "stdout",
          "text": [
            "isi tuple buah: ('Jambu', 'Kiwi', 'Apel', 'Alpukat')\n"
          ]
        }
      ]
    },
    {
      "cell_type": "code",
      "source": [],
      "metadata": {
        "id": "gNz0rEkhjDng"
      },
      "execution_count": null,
      "outputs": []
    }
  ]
}