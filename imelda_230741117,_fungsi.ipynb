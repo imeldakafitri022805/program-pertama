{
  "nbformat": 4,
  "nbformat_minor": 0,
  "metadata": {
    "colab": {
      "provenance": [],
      "toc_visible": true,
      "authorship_tag": "ABX9TyPKqR/mHEdFKtzkYUUetH6t",
      "include_colab_link": true
    },
    "kernelspec": {
      "name": "python3",
      "display_name": "Python 3"
    },
    "language_info": {
      "name": "python"
    }
  },
  "cells": [
    {
      "cell_type": "markdown",
      "metadata": {
        "id": "view-in-github",
        "colab_type": "text"
      },
      "source": [
        "<a href=\"https://colab.research.google.com/github/imeldakafitri022805/program-pertama/blob/main/imelda_230741117%2C_fungsi.ipynb\" target=\"_parent\"><img src=\"https://colab.research.google.com/assets/colab-badge.svg\" alt=\"Open In Colab\"/></a>"
      ]
    },
    {
      "cell_type": "code",
      "execution_count": 1,
      "metadata": {
        "colab": {
          "base_uri": "https://localhost:8080/"
        },
        "id": "XT3PcAInYJ7p",
        "outputId": "9fa39397-82e8-4766-de8c-ec65e4fdd107"
      },
      "outputs": [
        {
          "output_type": "stream",
          "name": "stdout",
          "text": [
            "Hello, Selamat Pagi Imelda\n"
          ]
        }
      ],
      "source": [
        "#membuat fungsi\n",
        "def salam ():\n",
        "  print (\"Hello, Selamat Pagi Imelda\")\n",
        "\n",
        "## Pemanggilan fungsi\n",
        "salam()\n"
      ]
    },
    {
      "cell_type": "code",
      "source": [
        "#membuat fungsi\n",
        "def salam ():\n",
        "  print (\"Hello, Selamat Pagi Imelda\")\n",
        "\n",
        "## Pemanggilan fungsi\n",
        "salam()\n",
        "salam()\n",
        "salam()"
      ],
      "metadata": {
        "colab": {
          "base_uri": "https://localhost:8080/"
        },
        "id": "I9XWX1CdapDA",
        "outputId": "8f3679db-63be-43e5-f10a-e9736d383fb3"
      },
      "execution_count": 2,
      "outputs": [
        {
          "output_type": "stream",
          "name": "stdout",
          "text": [
            "Hello, Selamat Pagi Imelda\n",
            "Hello, Selamat Pagi Imelda\n",
            "Hello, Selamat Pagi Imelda\n"
          ]
        }
      ]
    },
    {
      "cell_type": "code",
      "source": [
        "#pemanggilan fungsi parameter\n",
        "def salam(ucapan):\n",
        "    print(ucapan)\n",
        "salam(\"Selamat Siang\")"
      ],
      "metadata": {
        "colab": {
          "base_uri": "https://localhost:8080/"
        },
        "id": "AQnj6vaua73t",
        "outputId": "a1a21c20-1161-412d-adbb-2e0a4589159f"
      },
      "execution_count": null,
      "outputs": [
        {
          "output_type": "stream",
          "name": "stdout",
          "text": [
            "Selamat Siang\n"
          ]
        }
      ]
    },
    {
      "cell_type": "code",
      "source": [
        "#membuat fungsi dengan parameter\n",
        "def luas_segitiga(alas, tinggi):\n",
        "    luas = (alas * tinggi) / 2\n",
        "    print (\"Luas segitiga: %f\" % luas)\n",
        "\n",
        "#pemanggilan fungsi\n",
        "luas_segitiga(4, 6)"
      ],
      "metadata": {
        "colab": {
          "base_uri": "https://localhost:8080/"
        },
        "id": "Vv3gPONAcYJC",
        "outputId": "471946f0-8a3f-4983-f646-85297e6d9b98"
      },
      "execution_count": null,
      "outputs": [
        {
          "output_type": "stream",
          "name": "stdout",
          "text": [
            "Luas segitiga: 12.000000\n"
          ]
        }
      ]
    },
    {
      "cell_type": "code",
      "source": [
        "def luas_persegi(sisi):\n",
        "    luas = sisi * sisi\n",
        "    return luas\n",
        "\n",
        "#pemanggilan fungsi\n",
        "print (\"Luas Persegi: %d\" % luas_persegi (6))"
      ],
      "metadata": {
        "colab": {
          "base_uri": "https://localhost:8080/"
        },
        "id": "BYeccdzXeQwi",
        "outputId": "6df217e6-d6ba-4992-b6f9-94b41f9b1b72"
      },
      "execution_count": null,
      "outputs": [
        {
          "output_type": "stream",
          "name": "stdout",
          "text": [
            "Luas Persegi: 36\n"
          ]
        }
      ]
    },
    {
      "cell_type": "code",
      "source": [
        "# membuat variabel global\n",
        "nama = \"Belajar Kode\"\n",
        "versi = \"1.0.0\"\n",
        "\n",
        "def help():\n",
        "    # ini variabel lokal\n",
        "    nama = \"Programku\"\n",
        "    versi = \"1.0.1\"\n",
        "    # mengakses variabel lokal\n",
        "    print (\"Nama: %s\" % nama)\n",
        "    print (\"Versi: %s\" % versi)\n",
        "\n",
        "    # mengakses variabel global\n",
        "    print (\"Nama: %s\" % nama)\n",
        "    print (\"Versi: %s\" % versi)\n",
        "\n",
        "    # memanggil fungsi help()\n",
        "    help()"
      ],
      "metadata": {
        "id": "40SYvbsdhlen"
      },
      "execution_count": null,
      "outputs": []
    },
    {
      "cell_type": "code",
      "source": [
        "nama = \"Belajar Kode\"\n",
        "versi = \"1.0.0\"\n",
        "\n",
        "def help():\n",
        "    nama = \"Programku\"\n",
        "    versi = \"1.0.1\"\n",
        "    print (\"nama: %s\" % nama)\n",
        "    print (\"versi: %s\" % versi)\n"
      ],
      "metadata": {
        "id": "U-0Njz5Ljw8f"
      },
      "execution_count": null,
      "outputs": []
    },
    {
      "cell_type": "code",
      "source": [
        "# mengakses variabel global\n",
        "print (\"nama: %s\" % nama)\n",
        "print (\"versi: %s\" % versi)\n"
      ],
      "metadata": {
        "colab": {
          "base_uri": "https://localhost:8080/"
        },
        "id": "5WYzuDSgm4Sm",
        "outputId": "bee71869-5eaf-4223-e397-2892a27d5d44"
      },
      "execution_count": null,
      "outputs": [
        {
          "output_type": "stream",
          "name": "stdout",
          "text": [
            "nama: Belajar Kode\n",
            "versi: 1.0.0\n"
          ]
        }
      ]
    },
    {
      "cell_type": "code",
      "source": [
        "# membuat variabel global\n",
        "nama = \"Nama, Tanggal lahir\"\n",
        "versi = \"Imelda Kafitri, 28 februari 2005\"\n",
        "\n",
        "def help():\n",
        "    # ini variabel lokal\n",
        "    nama = \"Hobi, jurusan, tempat tinggal\"\n",
        "    versi = \"Mendengar musik, Ilmu komputer, Toboali\"\n",
        "    # mengakses variabel lokal\n",
        "    print (\"Nama: %s\" % nama)\n",
        "    print (\"Versi: %s\" % versi)"
      ],
      "metadata": {
        "id": "mDTFt7lUNRIu"
      },
      "execution_count": 1,
      "outputs": []
    },
    {
      "cell_type": "code",
      "source": [
        "# mengakses variabel global\n",
        "print (\"Nama: %s\" % nama)\n",
        "print (\"Versi: %s\" % versi)\n",
        "\n",
        "# memanggil fungsi help()\n",
        "help()"
      ],
      "metadata": {
        "colab": {
          "base_uri": "https://localhost:8080/"
        },
        "id": "spar7x8GNu5Y",
        "outputId": "a680d807-f04b-4d48-818d-ff4f5cb0a190"
      },
      "execution_count": 2,
      "outputs": [
        {
          "output_type": "stream",
          "name": "stdout",
          "text": [
            "Nama: Nama, Tanggal lahir\n",
            "Versi: Imelda Kafitri, 28 februari 2005\n",
            "Nama: Hobi, jurusan, tempat tinggal\n",
            "Versi: Mendengar musik, Ilmu komputer, Toboali\n"
          ]
        }
      ]
    },
    {
      "cell_type": "code",
      "source": [
        "buku = []\n",
        "# fungsi untuk menampilkan semua data\n",
        "def show_data():\n",
        "    if len(buku) <= 0:\n",
        "        print(\"BELUM ADA DATA\")\n",
        "    else:\n",
        "      for indeks in range(len(buku)):\n",
        "          print(\"[{}]] {}\".format(indeks, buku[indeks]))\n",
        "\n",
        " # fungsi untuk menambah data\n",
        "def insert_data():\n",
        "    buku_baru = input(\"Judul Buku: \")\n",
        "    buku.append(buku_baru)\n",
        "\n",
        "# fungsi untuk edit data\n",
        "def edit_data():\n",
        "    show_data()\n",
        "    indeks = int(input(\"Inputkan ID buku: \"))\n",
        "    if indeks > len(buku):\n",
        "       print(\"ID salah\")\n",
        "    else:\n",
        "        judul_baru = input(\"Judul baru: \")\n",
        "        buku[indeks] = judul_baru\n",
        "\n",
        " # fungsi untuk edit data\n",
        "def delete_data():\n",
        "    show_data()\n",
        "    Indeks = int(input(\"Inputkan ID buku: \"))\n",
        "    if indeks > len(buku):\n",
        "       print(\"ID salah\")\n",
        "    else:\n",
        "        buku.remove(buku[Indeks])\n",
        "\n",
        " # fungsi untuk menampilkan menu\n",
        "def show_menu():\n",
        "    print(\"\\n\")\n",
        "    print(\"---------- MENU ----------\")\n",
        "    print(\"[1] Show Data\")\n",
        "    print(\"[2] Insert Data\")\n",
        "    print(\"[3] Edit Sata\")\n",
        "    print(\"[4] Delele Data\")\n",
        "    print(\"[5] Exit\")\n",
        "\n",
        "    menu = input(\"PILIH MENU> \")\n",
        "    print(\"\\n\")\n",
        "\n",
        "    if int(menu) == 1:\n",
        "      show_data()\n",
        "    elif int(menu) == 2:\n",
        "      insert_data()\n",
        "    elif int(menu) == 3:\n",
        "      edit_data()\n",
        "    elif int(menu) == 4:\n",
        "      delete_data()\n",
        "    elif int(menu) == 5:\n",
        "     exit()\n",
        "    else:\n",
        "      print(\"Salah pilih!\")\n",
        "\n",
        "if __name__ == \"__main__\":\n",
        "\n",
        "    while True:\n",
        "        show_menu()\n",
        "\n",
        "\n",
        "\n",
        "\n"
      ],
      "metadata": {
        "colab": {
          "base_uri": "https://localhost:8080/",
          "height": 1000
        },
        "id": "h7DVDP-tJOP9",
        "outputId": "fbee9ea1-b71b-4c53-e5a9-f0398520d8d4"
      },
      "execution_count": 4,
      "outputs": [
        {
          "output_type": "stream",
          "name": "stdout",
          "text": [
            "\n",
            "\n",
            "---------- MENU ----------\n",
            "[1] Show Data\n",
            "[2] Insert Data\n",
            "[3] Edit Sata\n",
            "[4] Delele Data\n",
            "[5] Exit\n",
            "PILIH MENU> 1\n",
            "\n",
            "\n",
            "BELUM ADA DATA\n",
            "\n",
            "\n",
            "---------- MENU ----------\n",
            "[1] Show Data\n",
            "[2] Insert Data\n",
            "[3] Edit Sata\n",
            "[4] Delele Data\n",
            "[5] Exit\n",
            "PILIH MENU> 2\n",
            "\n",
            "\n",
            "Judul Buku: belajar dari kesalahan\n",
            "\n",
            "\n",
            "---------- MENU ----------\n",
            "[1] Show Data\n",
            "[2] Insert Data\n",
            "[3] Edit Sata\n",
            "[4] Delele Data\n",
            "[5] Exit\n",
            "PILIH MENU> 1\n",
            "\n",
            "\n",
            "[0]] belajar dari kesalahan\n",
            "\n",
            "\n",
            "---------- MENU ----------\n",
            "[1] Show Data\n",
            "[2] Insert Data\n",
            "[3] Edit Sata\n",
            "[4] Delele Data\n",
            "[5] Exit\n",
            "PILIH MENU> 5\n",
            "\n",
            "\n",
            "\n",
            "\n",
            "---------- MENU ----------\n",
            "[1] Show Data\n",
            "[2] Insert Data\n",
            "[3] Edit Sata\n",
            "[4] Delele Data\n",
            "[5] Exit\n"
          ]
        },
        {
          "output_type": "error",
          "ename": "KeyboardInterrupt",
          "evalue": "ignored",
          "traceback": [
            "\u001b[0;31m---------------------------------------------------------------------------\u001b[0m",
            "\u001b[0;31mKeyboardInterrupt\u001b[0m                         Traceback (most recent call last)",
            "\u001b[0;32m<ipython-input-4-c8ffc3f38914>\u001b[0m in \u001b[0;36m<cell line: 60>\u001b[0;34m()\u001b[0m\n\u001b[1;32m     61\u001b[0m \u001b[0;34m\u001b[0m\u001b[0m\n\u001b[1;32m     62\u001b[0m     \u001b[0;32mwhile\u001b[0m \u001b[0;32mTrue\u001b[0m\u001b[0;34m:\u001b[0m\u001b[0;34m\u001b[0m\u001b[0;34m\u001b[0m\u001b[0m\n\u001b[0;32m---> 63\u001b[0;31m         \u001b[0mshow_menu\u001b[0m\u001b[0;34m(\u001b[0m\u001b[0;34m)\u001b[0m\u001b[0;34m\u001b[0m\u001b[0;34m\u001b[0m\u001b[0m\n\u001b[0m\u001b[1;32m     64\u001b[0m \u001b[0;34m\u001b[0m\u001b[0m\n\u001b[1;32m     65\u001b[0m \u001b[0;34m\u001b[0m\u001b[0m\n",
            "\u001b[0;32m<ipython-input-4-c8ffc3f38914>\u001b[0m in \u001b[0;36mshow_menu\u001b[0;34m()\u001b[0m\n\u001b[1;32m     42\u001b[0m     \u001b[0mprint\u001b[0m\u001b[0;34m(\u001b[0m\u001b[0;34m\"[5] Exit\"\u001b[0m\u001b[0;34m)\u001b[0m\u001b[0;34m\u001b[0m\u001b[0;34m\u001b[0m\u001b[0m\n\u001b[1;32m     43\u001b[0m \u001b[0;34m\u001b[0m\u001b[0m\n\u001b[0;32m---> 44\u001b[0;31m     \u001b[0mmenu\u001b[0m \u001b[0;34m=\u001b[0m \u001b[0minput\u001b[0m\u001b[0;34m(\u001b[0m\u001b[0;34m\"PILIH MENU> \"\u001b[0m\u001b[0;34m)\u001b[0m\u001b[0;34m\u001b[0m\u001b[0;34m\u001b[0m\u001b[0m\n\u001b[0m\u001b[1;32m     45\u001b[0m     \u001b[0mprint\u001b[0m\u001b[0;34m(\u001b[0m\u001b[0;34m\"\\n\"\u001b[0m\u001b[0;34m)\u001b[0m\u001b[0;34m\u001b[0m\u001b[0;34m\u001b[0m\u001b[0m\n\u001b[1;32m     46\u001b[0m \u001b[0;34m\u001b[0m\u001b[0m\n",
            "\u001b[0;32m/usr/local/lib/python3.10/dist-packages/ipykernel/kernelbase.py\u001b[0m in \u001b[0;36mraw_input\u001b[0;34m(self, prompt)\u001b[0m\n\u001b[1;32m    849\u001b[0m                 \u001b[0;34m\"raw_input was called, but this frontend does not support input requests.\"\u001b[0m\u001b[0;34m\u001b[0m\u001b[0;34m\u001b[0m\u001b[0m\n\u001b[1;32m    850\u001b[0m             )\n\u001b[0;32m--> 851\u001b[0;31m         return self._input_request(str(prompt),\n\u001b[0m\u001b[1;32m    852\u001b[0m             \u001b[0mself\u001b[0m\u001b[0;34m.\u001b[0m\u001b[0m_parent_ident\u001b[0m\u001b[0;34m,\u001b[0m\u001b[0;34m\u001b[0m\u001b[0;34m\u001b[0m\u001b[0m\n\u001b[1;32m    853\u001b[0m             \u001b[0mself\u001b[0m\u001b[0;34m.\u001b[0m\u001b[0m_parent_header\u001b[0m\u001b[0;34m,\u001b[0m\u001b[0;34m\u001b[0m\u001b[0;34m\u001b[0m\u001b[0m\n",
            "\u001b[0;32m/usr/local/lib/python3.10/dist-packages/ipykernel/kernelbase.py\u001b[0m in \u001b[0;36m_input_request\u001b[0;34m(self, prompt, ident, parent, password)\u001b[0m\n\u001b[1;32m    893\u001b[0m             \u001b[0;32mexcept\u001b[0m \u001b[0mKeyboardInterrupt\u001b[0m\u001b[0;34m:\u001b[0m\u001b[0;34m\u001b[0m\u001b[0;34m\u001b[0m\u001b[0m\n\u001b[1;32m    894\u001b[0m                 \u001b[0;31m# re-raise KeyboardInterrupt, to truncate traceback\u001b[0m\u001b[0;34m\u001b[0m\u001b[0;34m\u001b[0m\u001b[0m\n\u001b[0;32m--> 895\u001b[0;31m                 \u001b[0;32mraise\u001b[0m \u001b[0mKeyboardInterrupt\u001b[0m\u001b[0;34m(\u001b[0m\u001b[0;34m\"Interrupted by user\"\u001b[0m\u001b[0;34m)\u001b[0m \u001b[0;32mfrom\u001b[0m \u001b[0;32mNone\u001b[0m\u001b[0;34m\u001b[0m\u001b[0;34m\u001b[0m\u001b[0m\n\u001b[0m\u001b[1;32m    896\u001b[0m             \u001b[0;32mexcept\u001b[0m \u001b[0mException\u001b[0m \u001b[0;32mas\u001b[0m \u001b[0me\u001b[0m\u001b[0;34m:\u001b[0m\u001b[0;34m\u001b[0m\u001b[0;34m\u001b[0m\u001b[0m\n\u001b[1;32m    897\u001b[0m                 \u001b[0mself\u001b[0m\u001b[0;34m.\u001b[0m\u001b[0mlog\u001b[0m\u001b[0;34m.\u001b[0m\u001b[0mwarning\u001b[0m\u001b[0;34m(\u001b[0m\u001b[0;34m\"Invalid Message:\"\u001b[0m\u001b[0;34m,\u001b[0m \u001b[0mexc_info\u001b[0m\u001b[0;34m=\u001b[0m\u001b[0;32mTrue\u001b[0m\u001b[0;34m)\u001b[0m\u001b[0;34m\u001b[0m\u001b[0;34m\u001b[0m\u001b[0m\n",
            "\u001b[0;31mKeyboardInterrupt\u001b[0m: Interrupted by user"
          ]
        }
      ]
    }
  ]
}