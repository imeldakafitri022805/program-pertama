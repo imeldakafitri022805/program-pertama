{
  "cells": [
    {
      "cell_type": "markdown",
      "metadata": {
        "id": "view-in-github",
        "colab_type": "text"
      },
      "source": [
        "<a href=\"https://colab.research.google.com/github/imeldakafitri022805/program-pertama/blob/main/operator_python_imelda_230741117.ipynb\" target=\"_parent\"><img src=\"https://colab.research.google.com/assets/colab-badge.svg\" alt=\"Open In Colab\"/></a>"
      ]
    },
    {
      "cell_type": "code",
      "execution_count": null,
      "metadata": {
        "colab": {
          "base_uri": "https://localhost:8080/"
        },
        "id": "bIUFqsKg8bHE",
        "outputId": "b278f9fd-8245-4520-fec5-81f30af669ca"
      },
      "outputs": [
        {
          "output_type": "execute_result",
          "data": {
            "text/plain": [
              "20"
            ]
          },
          "metadata": {},
          "execution_count": 4
        }
      ],
      "source": [
        "#contoh sederhana operator aritmatika\n",
        ">>> 16 + 4"
      ]
    },
    {
      "cell_type": "code",
      "execution_count": null,
      "metadata": {
        "colab": {
          "base_uri": "https://localhost:8080/"
        },
        "id": "ZsEXdn2vANw1",
        "outputId": "95c8e643-f5b1-4630-d423-9d6e87ab3798"
      },
      "outputs": [
        {
          "output_type": "execute_result",
          "data": {
            "text/plain": [
              "5"
            ]
          },
          "metadata": {},
          "execution_count": 5
        }
      ],
      "source": [
        "#menjumlahkan nilai operan\n",
        "3 + 2"
      ]
    },
    {
      "cell_type": "code",
      "execution_count": null,
      "metadata": {
        "colab": {
          "base_uri": "https://localhost:8080/"
        },
        "id": "yE9-DUg7B-J6",
        "outputId": "4295d433-e216-4a25-ec7f-de913f10273b"
      },
      "outputs": [
        {
          "output_type": "execute_result",
          "data": {
            "text/plain": [
              "0"
            ]
          },
          "metadata": {},
          "execution_count": 6
        }
      ],
      "source": [
        "#mengurangkan nilai operan\n",
        "10 - 10"
      ]
    },
    {
      "cell_type": "code",
      "execution_count": null,
      "metadata": {
        "colab": {
          "base_uri": "https://localhost:8080/"
        },
        "id": "vQzuyC2ICRZy",
        "outputId": "0c07a3b7-dc28-4408-e237-d9d64ef571d6"
      },
      "outputs": [
        {
          "output_type": "execute_result",
          "data": {
            "text/plain": [
              "4"
            ]
          },
          "metadata": {},
          "execution_count": 7
        }
      ],
      "source": [
        "#mengalihkan nilai operan\n",
        "2 * 2"
      ]
    },
    {
      "cell_type": "code",
      "execution_count": null,
      "metadata": {
        "colab": {
          "base_uri": "https://localhost:8080/"
        },
        "id": "4zNd7FEhDH-D",
        "outputId": "b1747438-f106-4755-a4b8-60f08d529c67"
      },
      "outputs": [
        {
          "output_type": "execute_result",
          "data": {
            "text/plain": [
              "20.0"
            ]
          },
          "metadata": {},
          "execution_count": 8
        }
      ],
      "source": [
        "#membagi nilai operan\n",
        "100 / 5"
      ]
    },
    {
      "cell_type": "code",
      "execution_count": null,
      "metadata": {
        "colab": {
          "base_uri": "https://localhost:8080/"
        },
        "id": "srMIGHtACrYJ",
        "outputId": "44bcb5be-8760-4ed4-f6cc-15223af8c5dd"
      },
      "outputs": [
        {
          "output_type": "execute_result",
          "data": {
            "text/plain": [
              "20.0"
            ]
          },
          "metadata": {},
          "execution_count": 9
        }
      ],
      "source": [
        "#membagi nilai operan\n",
        "100 / 5"
      ]
    },
    {
      "cell_type": "code",
      "execution_count": null,
      "metadata": {
        "colab": {
          "base_uri": "https://localhost:8080/"
        },
        "id": "SCkJqhWKDm05",
        "outputId": "c023d671-4e4a-4714-a9a5-e70c42c80060"
      },
      "outputs": [
        {
          "output_type": "execute_result",
          "data": {
            "text/plain": [
              "3.3333333333333335"
            ]
          },
          "metadata": {},
          "execution_count": 10
        }
      ],
      "source": [
        "#menghitung sisa hasil bagi dari operator\n",
        "10 / 3"
      ]
    },
    {
      "cell_type": "code",
      "execution_count": null,
      "metadata": {
        "colab": {
          "base_uri": "https://localhost:8080/"
        },
        "id": "V0-KuEHfEBqC",
        "outputId": "d854a5ea-8002-4962-e03e-5b5c9649d252"
      },
      "outputs": [
        {
          "output_type": "execute_result",
          "data": {
            "text/plain": [
              "8"
            ]
          },
          "metadata": {},
          "execution_count": 11
        }
      ],
      "source": [
        "#menghitung pangkat dari operan\n",
        "2 ** 3"
      ]
    },
    {
      "cell_type": "code",
      "execution_count": null,
      "metadata": {
        "colab": {
          "base_uri": "https://localhost:8080/"
        },
        "id": "uLjb0AUwEROo",
        "outputId": "134a0c29-319e-4f4c-d810-9d3ebed57113"
      },
      "outputs": [
        {
          "output_type": "execute_result",
          "data": {
            "text/plain": [
              "3"
            ]
          },
          "metadata": {},
          "execution_count": 12
        }
      ],
      "source": [
        "#membagi operan lalu membulatkannya dengan menghapus angka dibelakang koma\n",
        "10 // 3"
      ]
    },
    {
      "cell_type": "code",
      "execution_count": null,
      "metadata": {
        "id": "DRJOMQ3nFISZ"
      },
      "outputs": [],
      "source": [
        "#contoh pemograman operator aritmatika\n",
        "a, b = 11, 2"
      ]
    },
    {
      "cell_type": "code",
      "execution_count": null,
      "metadata": {
        "colab": {
          "base_uri": "https://localhost:8080/"
        },
        "id": "6PFneuYZGTfy",
        "outputId": "51c1e0a0-cde6-4a50-d249-b2bcd60e4b43"
      },
      "outputs": [
        {
          "output_type": "stream",
          "name": "stdout",
          "text": [
            "11 + 2 = 13\n"
          ]
        }
      ],
      "source": [
        "print(a, '+', b, '=', a + b)"
      ]
    },
    {
      "cell_type": "code",
      "execution_count": null,
      "metadata": {
        "colab": {
          "base_uri": "https://localhost:8080/"
        },
        "id": "TYvyOu8UHeYT",
        "outputId": "bbddbd09-4b6c-4535-f0d8-892833346315"
      },
      "outputs": [
        {
          "output_type": "stream",
          "name": "stdout",
          "text": [
            "11 _ 2 = 9\n"
          ]
        }
      ],
      "source": [
        "print(a, '_', b, '=', a - b)"
      ]
    },
    {
      "cell_type": "code",
      "execution_count": null,
      "metadata": {
        "colab": {
          "base_uri": "https://localhost:8080/"
        },
        "id": "V4COfGi-H7W3",
        "outputId": "29296234-4f6d-4ee6-e80e-ca872a235994"
      },
      "outputs": [
        {
          "output_type": "stream",
          "name": "stdout",
          "text": [
            "11 * 2 = 22\n"
          ]
        }
      ],
      "source": [
        "print(a, '*', b, '=', a * b)"
      ]
    },
    {
      "cell_type": "code",
      "execution_count": null,
      "metadata": {
        "id": "5Hkzl5gRIP9v"
      },
      "outputs": [],
      "source": [
        "print(a, '/', b, '=', a / b)"
      ]
    },
    {
      "cell_type": "code",
      "execution_count": null,
      "metadata": {
        "colab": {
          "base_uri": "https://localhost:8080/"
        },
        "id": "OsE-vI4fIjri",
        "outputId": "de03beb7-28f2-4f22-a08f-6cc49ea1ffff"
      },
      "outputs": [
        {
          "name": "stdout",
          "output_type": "stream",
          "text": [
            "11 % 2 = 1\n"
          ]
        }
      ],
      "source": [
        "print(a, '%', b, '=', a % b)"
      ]
    },
    {
      "cell_type": "code",
      "execution_count": null,
      "metadata": {
        "colab": {
          "base_uri": "https://localhost:8080/"
        },
        "id": "7t1a-iOKIyzM",
        "outputId": "57a25a22-9ea2-4a65-d7f8-f99b0eb4d026"
      },
      "outputs": [
        {
          "name": "stdout",
          "output_type": "stream",
          "text": [
            "11 ** 2 = 121\n"
          ]
        }
      ],
      "source": [
        "print(a, '**', b, '=',a ** b)"
      ]
    },
    {
      "cell_type": "code",
      "execution_count": null,
      "metadata": {
        "colab": {
          "base_uri": "https://localhost:8080/"
        },
        "id": "ZLhg5ldWLSf9",
        "outputId": "a1af62a1-ecc1-419e-e936-d211403609d6"
      },
      "outputs": [
        {
          "data": {
            "text/plain": [
              "False"
            ]
          },
          "execution_count": 17,
          "metadata": {},
          "output_type": "execute_result"
        }
      ],
      "source": [
        "#lebih dari\n",
        "5 > 5"
      ]
    },
    {
      "cell_type": "code",
      "execution_count": null,
      "metadata": {
        "colab": {
          "base_uri": "https://localhost:8080/"
        },
        "id": "71CkLyk7MHGx",
        "outputId": "cc32cbf9-49d6-40a1-99a5-8ed8c29280ba"
      },
      "outputs": [
        {
          "data": {
            "text/plain": [
              "True"
            ]
          },
          "execution_count": 18,
          "metadata": {},
          "output_type": "execute_result"
        }
      ],
      "source": [
        "#kurang dari\n",
        "2 < 4"
      ]
    },
    {
      "cell_type": "code",
      "execution_count": null,
      "metadata": {
        "colab": {
          "base_uri": "https://localhost:8080/"
        },
        "id": "dXbOEhUNMOY_",
        "outputId": "c418fdb2-5ead-4be7-c60b-7b00ef504576"
      },
      "outputs": [
        {
          "data": {
            "text/plain": [
              "True"
            ]
          },
          "execution_count": 19,
          "metadata": {},
          "output_type": "execute_result"
        }
      ],
      "source": [
        "#sama dengan\n",
        "10 == 10"
      ]
    },
    {
      "cell_type": "code",
      "execution_count": null,
      "metadata": {
        "colab": {
          "base_uri": "https://localhost:8080/"
        },
        "id": "OFhz8JvUMW_e",
        "outputId": "fb9b386c-e5f5-4ea5-99c6-225810f37c9a"
      },
      "outputs": [
        {
          "data": {
            "text/plain": [
              "False"
            ]
          },
          "execution_count": 20,
          "metadata": {},
          "output_type": "execute_result"
        }
      ],
      "source": [
        "#tidak sama dengan\n",
        "5 != 5"
      ]
    },
    {
      "cell_type": "code",
      "execution_count": null,
      "metadata": {
        "colab": {
          "base_uri": "https://localhost:8080/"
        },
        "id": "8Fat8HcxMgTd",
        "outputId": "d749a73b-42e8-4205-f8a6-07076b1763f6"
      },
      "outputs": [
        {
          "data": {
            "text/plain": [
              "True"
            ]
          },
          "execution_count": 21,
          "metadata": {},
          "output_type": "execute_result"
        }
      ],
      "source": [
        "#lebih dari atau sama dengan\n",
        "10 >= 10"
      ]
    },
    {
      "cell_type": "code",
      "execution_count": null,
      "metadata": {
        "colab": {
          "base_uri": "https://localhost:8080/"
        },
        "id": "3OYXoaxIMzyT",
        "outputId": "e58ff846-3859-4409-86a2-db694f6a2434"
      },
      "outputs": [
        {
          "data": {
            "text/plain": [
              "True"
            ]
          },
          "execution_count": 22,
          "metadata": {},
          "output_type": "execute_result"
        }
      ],
      "source": [
        "#kurang dari atau sama dengan\n",
        "9 <= 10"
      ]
    },
    {
      "cell_type": "code",
      "execution_count": null,
      "metadata": {
        "id": "g5OEDu7PM8tZ"
      },
      "outputs": [],
      "source": [
        "#operator komparasi atau perbandingan\n",
        "#contoh pemograman\n",
        "a, b = 11, 2"
      ]
    },
    {
      "cell_type": "code",
      "execution_count": null,
      "metadata": {
        "colab": {
          "base_uri": "https://localhost:8080/",
          "height": 176
        },
        "id": "175GJtGbPCXN",
        "outputId": "a3fef5ef-78e5-4823-cbe1-cb640834eee7"
      },
      "outputs": [
        {
          "ename": "NameError",
          "evalue": "ignored",
          "output_type": "error",
          "traceback": [
            "\u001b[0;31m---------------------------------------------------------------------------\u001b[0m",
            "\u001b[0;31mNameError\u001b[0m                                 Traceback (most recent call last)",
            "\u001b[0;32m<ipython-input-26-21ed3f9c14cd>\u001b[0m in \u001b[0;36m<cell line: 1>\u001b[0;34m()\u001b[0m\n\u001b[0;32m----> 1\u001b[0;31m \u001b[0mPrint\u001b[0m\u001b[0;34m(\u001b[0m\u001b[0ma\u001b[0m\u001b[0;34m,\u001b[0m \u001b[0;34m'+'\u001b[0m\u001b[0;34m,\u001b[0m \u001b[0mb\u001b[0m\u001b[0;34m,\u001b[0m \u001b[0;34m'='\u001b[0m\u001b[0;34m,\u001b[0m \u001b[0ma\u001b[0m \u001b[0;34m+\u001b[0m \u001b[0mb\u001b[0m\u001b[0;34m)\u001b[0m\u001b[0;34m\u001b[0m\u001b[0;34m\u001b[0m\u001b[0m\n\u001b[0m",
            "\u001b[0;31mNameError\u001b[0m: name 'Print' is not defined"
          ]
        }
      ],
      "source": [
        "Print(a, '+', b, '=', a + b)"
      ]
    },
    {
      "cell_type": "code",
      "execution_count": null,
      "metadata": {
        "colab": {
          "base_uri": "https://localhost:8080/"
        },
        "id": "cOkhwbA6Pl2N",
        "outputId": "d3706cf6-c608-4b8d-ca70-7f538c2b6320"
      },
      "outputs": [
        {
          "name": "stdout",
          "output_type": "stream",
          "text": [
            "11 < 2 = False\n"
          ]
        }
      ],
      "source": [
        "print(a, '<', b, '=', a < b)"
      ]
    },
    {
      "cell_type": "code",
      "execution_count": null,
      "metadata": {
        "id": "lvSxyG9hREGC"
      },
      "outputs": [],
      "source": [
        "a, b, c, d = 11, 2, 55, 73"
      ]
    },
    {
      "cell_type": "code",
      "execution_count": null,
      "metadata": {
        "colab": {
          "base_uri": "https://localhost:8080/"
        },
        "id": "Ld2DJnoyRN2n",
        "outputId": "4b05c64c-d7a2-4eea-aab9-4ebc53cac91f"
      },
      "outputs": [
        {
          "name": "stdout",
          "output_type": "stream",
          "text": [
            "2 // 55 = 0\n"
          ]
        }
      ],
      "source": [
        "print(b, '//', c, '=', b //c)"
      ]
    },
    {
      "cell_type": "code",
      "execution_count": null,
      "metadata": {
        "colab": {
          "base_uri": "https://localhost:8080/"
        },
        "id": "RQ4qNyZRRVyL",
        "outputId": "223954d8-e8aa-43d7-8971-935c435b44da"
      },
      "outputs": [
        {
          "name": "stdout",
          "output_type": "stream",
          "text": [
            "2 % 55 = 2\n"
          ]
        }
      ],
      "source": [
        "print(b, '%', c, '=', b % c)"
      ]
    },
    {
      "cell_type": "code",
      "execution_count": null,
      "metadata": {
        "colab": {
          "base_uri": "https://localhost:8080/"
        },
        "id": "boBADqTRSncX",
        "outputId": "35c94727-28b2-4924-94ed-5e60df9df979"
      },
      "outputs": [
        {
          "name": "stdout",
          "output_type": "stream",
          "text": [
            "2 ** 55 = 36028797018963968\n"
          ]
        }
      ],
      "source": [
        "print(b, '**', c, '=', b ** c)"
      ]
    },
    {
      "cell_type": "code",
      "execution_count": null,
      "metadata": {
        "colab": {
          "base_uri": "https://localhost:8080/",
          "height": 176
        },
        "id": "48wvkTxMSxjf",
        "outputId": "3283b0a5-1e8b-4591-bdd0-ff0cbdc0e400"
      },
      "outputs": [
        {
          "ename": "NameError",
          "evalue": "ignored",
          "output_type": "error",
          "traceback": [
            "\u001b[0;31m---------------------------------------------------------------------------\u001b[0m",
            "\u001b[0;31mNameError\u001b[0m                                 Traceback (most recent call last)",
            "\u001b[0;32m<ipython-input-32-7e55c6e439ba>\u001b[0m in \u001b[0;36m<cell line: 1>\u001b[0;34m()\u001b[0m\n\u001b[0;32m----> 1\u001b[0;31m \u001b[0mprint\u001b[0m\u001b[0;34m(\u001b[0m\u001b[0mb\u001b[0m\u001b[0;34m,\u001b[0m \u001b[0;34m'%'\u001b[0m\u001b[0;34m,\u001b[0m \u001b[0me\u001b[0m\u001b[0;34m,\u001b[0m \u001b[0;34m'**'\u001b[0m\u001b[0;34m,\u001b[0m \u001b[0me\u001b[0m\u001b[0;34m,\u001b[0m \u001b[0;34m'**'\u001b[0m\u001b[0;34m,\u001b[0m \u001b[0;34m'='\u001b[0m\u001b[0;34m,\u001b[0m \u001b[0mb\u001b[0m \u001b[0;34m%\u001b[0m \u001b[0me\u001b[0m \u001b[0;34m**\u001b[0m \u001b[0md\u001b[0m\u001b[0;34m)\u001b[0m\u001b[0;34m\u001b[0m\u001b[0;34m\u001b[0m\u001b[0m\n\u001b[0m",
            "\u001b[0;31mNameError\u001b[0m: name 'e' is not defined"
          ]
        }
      ],
      "source": [
        "print(b, '%', e, '**', e, '**', '=', b % e ** d)"
      ]
    },
    {
      "cell_type": "code",
      "execution_count": null,
      "metadata": {
        "colab": {
          "base_uri": "https://localhost:8080/",
          "height": 141
        },
        "id": "N_5Op4QSTWP_",
        "outputId": "573b1d1e-c32b-405d-a9fa-c865548eec7a"
      },
      "outputs": [
        {
          "ename": "SyntaxError",
          "evalue": "ignored",
          "output_type": "error",
          "traceback": [
            "\u001b[0;36m  File \u001b[0;32m\"<ipython-input-33-ed71ac41c473>\"\u001b[0;36m, line \u001b[0;32m1\u001b[0m\n\u001b[0;31m    print(b, '**', c, '//' e =', b ** c // e)\u001b[0m\n\u001b[0m                              ^\u001b[0m\n\u001b[0;31mSyntaxError\u001b[0m\u001b[0;31m:\u001b[0m unterminated string literal (detected at line 1)\n"
          ]
        }
      ],
      "source": [
        "print(b, '**', c, '//' e =', b ** c // e)"
      ]
    },
    {
      "cell_type": "code",
      "execution_count": null,
      "metadata": {
        "colab": {
          "base_uri": "https://localhost:8080/"
        },
        "id": "6-UTuqoWTqBC",
        "outputId": "ab3f4284-28d1-4175-dec6-64489c0bd29b"
      },
      "outputs": [
        {
          "name": "stdout",
          "output_type": "stream",
          "text": [
            "2 // 55 = 0\n"
          ]
        }
      ],
      "source": [
        "print(b, '//', c, '=', b // c)"
      ]
    },
    {
      "cell_type": "code",
      "execution_count": null,
      "metadata": {
        "colab": {
          "base_uri": "https://localhost:8080/"
        },
        "id": "Z1258K1dUnuA",
        "outputId": "13fead65-41d7-469f-c246-42917554764c"
      },
      "outputs": [
        {
          "name": "stdout",
          "output_type": "stream",
          "text": [
            "2 // 55 ** = 0\n"
          ]
        }
      ],
      "source": [
        "print(b, '//', c, '**', '=', b // c ** a)"
      ]
    },
    {
      "cell_type": "code",
      "execution_count": null,
      "metadata": {
        "colab": {
          "base_uri": "https://localhost:8080/",
          "height": 141
        },
        "id": "g1yTlgcBUzVJ",
        "outputId": "4b55f4a4-b519-46de-fb48-6d09b6aee899"
      },
      "outputs": [
        {
          "ename": "SyntaxError",
          "evalue": "ignored",
          "output_type": "error",
          "traceback": [
            "\u001b[0;36m  File \u001b[0;32m\"<ipython-input-37-f0b4dae91ee3>\"\u001b[0;36m, line \u001b[0;32m1\u001b[0m\n\u001b[0;31m    print(b, '//', c, '**', '*', '=', b // c ** a * )\u001b[0m\n\u001b[0m                                                    ^\u001b[0m\n\u001b[0;31mSyntaxError\u001b[0m\u001b[0;31m:\u001b[0m invalid syntax\n"
          ]
        }
      ],
      "source": [
        "print(b, '//', c, '**', '*', '=', b // c ** a * )"
      ]
    },
    {
      "cell_type": "code",
      "execution_count": null,
      "metadata": {
        "id": "8KnxwqiKVCv3"
      },
      "outputs": [],
      "source": [
        "a, b = 5,10"
      ]
    },
    {
      "cell_type": "code",
      "execution_count": null,
      "metadata": {
        "colab": {
          "base_uri": "https://localhost:8080/"
        },
        "id": "lSl_34gUX5Ak",
        "outputId": "d638b736-51e1-42d2-e428-ae4d133bf33e"
      },
      "outputs": [
        {
          "name": "stdout",
          "output_type": "stream",
          "text": [
            "5 > 10 = False\n"
          ]
        }
      ],
      "source": [
        "print(a, '>', b, '=', a > b)"
      ]
    },
    {
      "cell_type": "code",
      "execution_count": null,
      "metadata": {
        "colab": {
          "base_uri": "https://localhost:8080/"
        },
        "id": "bvW2Uy4UYF7H",
        "outputId": "0111498f-2d25-408d-f120-51d199b765c9"
      },
      "outputs": [
        {
          "name": "stdout",
          "output_type": "stream",
          "text": [
            "5 < 10 = True\n"
          ]
        }
      ],
      "source": [
        "print(a, '<', b, '=', a < b)"
      ]
    },
    {
      "cell_type": "code",
      "execution_count": null,
      "metadata": {
        "colab": {
          "base_uri": "https://localhost:8080/"
        },
        "id": "0WPPfhF8Yxju",
        "outputId": "ac272e73-d021-4cc5-9ef4-711dc023497d"
      },
      "outputs": [
        {
          "name": "stdout",
          "output_type": "stream",
          "text": [
            "5 == 10 = False\n"
          ]
        }
      ],
      "source": [
        "print(a, '==', b, '=', a == b)"
      ]
    },
    {
      "cell_type": "code",
      "execution_count": null,
      "metadata": {
        "colab": {
          "base_uri": "https://localhost:8080/"
        },
        "id": "Zg3CTnz-Y-Qv",
        "outputId": "349552e9-bb39-48e4-d3ab-b79a673625de"
      },
      "outputs": [
        {
          "name": "stdout",
          "output_type": "stream",
          "text": [
            "5 != 10 = True\n"
          ]
        }
      ],
      "source": [
        "print(a, '!=', b, '=', a !=b)"
      ]
    },
    {
      "cell_type": "code",
      "execution_count": null,
      "metadata": {
        "colab": {
          "base_uri": "https://localhost:8080/"
        },
        "id": "UXJa1b7xZT2V",
        "outputId": "381a9d63-415b-4695-927a-ba5c9d0a5c0e"
      },
      "outputs": [
        {
          "name": "stdout",
          "output_type": "stream",
          "text": [
            "5 >= 10 = False\n"
          ]
        }
      ],
      "source": [
        "print(a, '>=', b, '=', a >= b)"
      ]
    },
    {
      "cell_type": "code",
      "execution_count": null,
      "metadata": {
        "id": "nIbTbe3TuSTK"
      },
      "outputs": [],
      "source": [
        "#operator penugasan\n"
      ]
    },
    {
      "cell_type": "code",
      "execution_count": null,
      "metadata": {
        "id": "nVNr1zZpuaX-"
      },
      "outputs": [],
      "source": [
        "#penugasan pertama\n",
        "a = 10"
      ]
    },
    {
      "cell_type": "code",
      "execution_count": null,
      "metadata": {
        "colab": {
          "base_uri": "https://localhost:8080/"
        },
        "id": "Wy8f9g1KuvaL",
        "outputId": "eda14f7a-34d6-4ec5-aba1-0794dc8f76f7"
      },
      "outputs": [
        {
          "name": "stdout",
          "output_type": "stream",
          "text": [
            "a = 10 ->  10\n"
          ]
        }
      ],
      "source": [
        "print('a = 10 -> ', a)"
      ]
    },
    {
      "cell_type": "code",
      "execution_count": null,
      "metadata": {
        "id": "QGq3sFQzu_h8"
      },
      "outputs": [],
      "source": [
        "a += 5"
      ]
    },
    {
      "cell_type": "code",
      "execution_count": null,
      "metadata": {
        "colab": {
          "base_uri": "https://localhost:8080/"
        },
        "id": "NJgWis3dvMaI",
        "outputId": "051b28c6-2a24-4c58-d807-7d89c00d99de"
      },
      "outputs": [
        {
          "name": "stdout",
          "output_type": "stream",
          "text": [
            "a += 5 ->  15\n"
          ]
        }
      ],
      "source": [
        "print('a += 5 -> ',a)"
      ]
    },
    {
      "cell_type": "code",
      "execution_count": null,
      "metadata": {
        "id": "p4w7i9hsvZxE"
      },
      "outputs": [],
      "source": [
        "a -= 3"
      ]
    },
    {
      "cell_type": "code",
      "execution_count": null,
      "metadata": {
        "colab": {
          "base_uri": "https://localhost:8080/"
        },
        "id": "3gUh4dJOvelf",
        "outputId": "1eca9051-0aae-443b-957a-1e9fd7d4c600"
      },
      "outputs": [
        {
          "name": "stdout",
          "output_type": "stream",
          "text": [
            "a -= 3 ->  12\n"
          ]
        }
      ],
      "source": [
        "print('a -= 3 -> ', a)"
      ]
    },
    {
      "cell_type": "code",
      "execution_count": null,
      "metadata": {
        "id": "5lxyljKLv3Ov"
      },
      "outputs": [],
      "source": [
        "a *= 6"
      ]
    },
    {
      "cell_type": "code",
      "execution_count": null,
      "metadata": {
        "colab": {
          "base_uri": "https://localhost:8080/"
        },
        "id": "JcijNa-uv9lm",
        "outputId": "1f55cff0-747a-482e-bb9f-4ef3c75786a7"
      },
      "outputs": [
        {
          "name": "stdout",
          "output_type": "stream",
          "text": [
            "a *= 6 ->  72\n"
          ]
        }
      ],
      "source": [
        "print('a *= 6 -> ', a)"
      ]
    },
    {
      "cell_type": "code",
      "execution_count": null,
      "metadata": {
        "id": "bSu5nG-IwHOY"
      },
      "outputs": [],
      "source": [
        "a /= 8"
      ]
    },
    {
      "cell_type": "code",
      "execution_count": null,
      "metadata": {
        "colab": {
          "base_uri": "https://localhost:8080/"
        },
        "id": "6n3mC1uHwLsJ",
        "outputId": "a9ae93d6-4bc7-4872-af5f-f10884bbe460"
      },
      "outputs": [
        {
          "name": "stdout",
          "output_type": "stream",
          "text": [
            "a /= 8 ->  9.0\n"
          ]
        }
      ],
      "source": [
        "print('a /= 8 -> ', a)"
      ]
    },
    {
      "cell_type": "code",
      "execution_count": null,
      "metadata": {
        "id": "wVUeLE6dwfnB"
      },
      "outputs": [],
      "source": [
        "#operator penugasan\n",
        "a = int(a)"
      ]
    },
    {
      "cell_type": "code",
      "execution_count": null,
      "metadata": {
        "id": "An32oebLwt0Z"
      },
      "outputs": [],
      "source": [
        "a %= 9"
      ]
    },
    {
      "cell_type": "code",
      "execution_count": null,
      "metadata": {
        "colab": {
          "base_uri": "https://localhost:8080/"
        },
        "id": "MfVpWoTXwyaa",
        "outputId": "76ca1b7a-40ef-4636-aad4-a8b29afa79f5"
      },
      "outputs": [
        {
          "name": "stdout",
          "output_type": "stream",
          "text": [
            "a %= 9 ->  0\n"
          ]
        }
      ],
      "source": [
        "print('a %= 9 -> ', a)"
      ]
    },
    {
      "cell_type": "code",
      "execution_count": null,
      "metadata": {
        "id": "7eAIKfWMxAf-"
      },
      "outputs": [],
      "source": [
        "a //= 6"
      ]
    },
    {
      "cell_type": "code",
      "execution_count": null,
      "metadata": {
        "id": "ugY7LHt8xBJJ"
      },
      "outputs": [],
      "source": [
        "print('a //= 6 -> ', a)"
      ]
    },
    {
      "cell_type": "code",
      "execution_count": null,
      "metadata": {
        "id": "ezFLP3iMxQkW"
      },
      "outputs": [],
      "source": [
        "a **= 1\n"
      ]
    },
    {
      "cell_type": "code",
      "execution_count": null,
      "metadata": {
        "colab": {
          "base_uri": "https://localhost:8080/"
        },
        "id": "ieRtJi7DxZNn",
        "outputId": "50a9eda1-0ba4-48bc-fbbf-1a333477d669"
      },
      "outputs": [
        {
          "output_type": "stream",
          "name": "stdout",
          "text": [
            "a **= 1 ->  5\n"
          ]
        }
      ],
      "source": [
        "print('a **= 1 -> ', a)"
      ]
    },
    {
      "cell_type": "code",
      "execution_count": null,
      "metadata": {
        "colab": {
          "base_uri": "https://localhost:8080/"
        },
        "id": "FMr_y22gySXs",
        "outputId": "2eba1393-7a4c-43af-9b19-d2ea4156f8fa"
      },
      "outputs": [
        {
          "output_type": "stream",
          "name": "stdout",
          "text": [
            "True\n"
          ]
        }
      ],
      "source": [
        "#operator logika\n",
        "print(True and True)"
      ]
    },
    {
      "cell_type": "code",
      "execution_count": null,
      "metadata": {
        "colab": {
          "base_uri": "https://localhost:8080/"
        },
        "id": "BHegVDfZyg76",
        "outputId": "9f1fdac3-0eb4-4e90-bd8c-57d4ef22ccbb"
      },
      "outputs": [
        {
          "name": "stdout",
          "output_type": "stream",
          "text": [
            "True\n"
          ]
        }
      ],
      "source": [
        "print(1 + 2 == 3 and True)"
      ]
    },
    {
      "cell_type": "code",
      "execution_count": null,
      "metadata": {
        "colab": {
          "base_uri": "https://localhost:8080/"
        },
        "id": "kHeHEj0syp18",
        "outputId": "5e5fa586-b4ad-455f-d698-93b6104b837c"
      },
      "outputs": [
        {
          "name": "stdout",
          "output_type": "stream",
          "text": [
            "----\n"
          ]
        }
      ],
      "source": [
        "print('----')"
      ]
    },
    {
      "cell_type": "code",
      "execution_count": null,
      "metadata": {
        "colab": {
          "base_uri": "https://localhost:8080/"
        },
        "id": "XVkYLd71yv9d",
        "outputId": "c96ccf2e-b889-423b-b14a-bba1c0eef058"
      },
      "outputs": [
        {
          "name": "stdout",
          "output_type": "stream",
          "text": [
            "False\n"
          ]
        }
      ],
      "source": [
        "print(False or 1 > 5)"
      ]
    },
    {
      "cell_type": "code",
      "execution_count": null,
      "metadata": {
        "colab": {
          "base_uri": "https://localhost:8080/"
        },
        "id": "OCz0V8rpy4L5",
        "outputId": "240384c3-f22e-4e70-c997-c71cbf72c40d"
      },
      "outputs": [
        {
          "name": "stdout",
          "output_type": "stream",
          "text": [
            "True\n"
          ]
        }
      ],
      "source": [
        "print(False or 5 > 2)"
      ]
    },
    {
      "cell_type": "code",
      "execution_count": null,
      "metadata": {
        "colab": {
          "base_uri": "https://localhost:8080/"
        },
        "id": "kQYjtvZRzQQE",
        "outputId": "e257607b-be9f-4279-b490-31ba112fe7d5"
      },
      "outputs": [
        {
          "name": "stdout",
          "output_type": "stream",
          "text": [
            "True\n"
          ]
        }
      ],
      "source": [
        "print(not(1 > 5))"
      ]
    },
    {
      "cell_type": "code",
      "execution_count": null,
      "metadata": {
        "colab": {
          "base_uri": "https://localhost:8080/"
        },
        "id": "yfgKF6kqzY3R",
        "outputId": "ef106f0e-84b1-4b48-af78-28fa47314f3b"
      },
      "outputs": [
        {
          "name": "stdout",
          "output_type": "stream",
          "text": [
            "False\n"
          ]
        }
      ],
      "source": [
        "print(not(1<5))"
      ]
    },
    {
      "cell_type": "code",
      "execution_count": null,
      "metadata": {
        "id": "rcsJkxjL1Ub_"
      },
      "outputs": [],
      "source": [
        "#operator keanggotaan"
      ]
    },
    {
      "cell_type": "code",
      "execution_count": null,
      "metadata": {
        "colab": {
          "background_save": true
        },
        "id": "9KU-YDgU5t_T",
        "outputId": "2b05ad9a-b609-419f-f44a-0b8eb7ba8607"
      },
      "outputs": [
        {
          "ename": "SyntaxError",
          "evalue": "ignored",
          "output_type": "error",
          "traceback": [
            "\u001b[0;36m  File \u001b[0;32m\"<ipython-input-53-a8b8d7e45fac>\"\u001b[0;36m, line \u001b[0;32m1\u001b[0m\n\u001b[0;31m    list-pulau = ['Jawa]', 'Sumatra', 'Sulawesi']\u001b[0m\n\u001b[0m    ^\u001b[0m\n\u001b[0;31mSyntaxError\u001b[0m\u001b[0;31m:\u001b[0m cannot assign to expression here. Maybe you meant '==' instead of '='?\n"
          ]
        }
      ],
      "source": [
        "list-pulau = ['Jawa]', 'Sumatr'"
      ]
    },
    {
      "cell_type": "code",
      "source": [
        "#operator identitas\n",
        "a = 5\n",
        "b = 5\n",
        "nama_a = 'budi'\n",
        "nama_b = 'budi'"
      ],
      "metadata": {
        "id": "bZDU56-BMaPp"
      },
      "execution_count": null,
      "outputs": []
    },
    {
      "cell_type": "code",
      "source": [
        "#output True\n",
        "print('a is b:', a is b)"
      ],
      "metadata": {
        "colab": {
          "base_uri": "https://localhost:8080/"
        },
        "id": "4Hcm7Tp0vXHv",
        "outputId": "04cafe27-7950-4b32-a9a1-bc73b9b28884"
      },
      "execution_count": null,
      "outputs": [
        {
          "output_type": "stream",
          "name": "stdout",
          "text": [
            "a is b: False\n"
          ]
        }
      ]
    },
    {
      "cell_type": "code",
      "source": [
        "#output False\n",
        "print('a is not b:', a is not b)"
      ],
      "metadata": {
        "colab": {
          "base_uri": "https://localhost:8080/"
        },
        "id": "ayRPkqduxWEo",
        "outputId": "9690fa3e-6a49-4820-8bc6-bd2e78874dfa"
      },
      "execution_count": null,
      "outputs": [
        {
          "output_type": "stream",
          "name": "stdout",
          "text": [
            "a is not b: True\n"
          ]
        }
      ]
    },
    {
      "cell_type": "code",
      "source": [
        "#output True\n",
        "print('nama_is nama_b:', nama_a is nama_b)"
      ],
      "metadata": {
        "colab": {
          "base_uri": "https://localhost:8080/"
        },
        "id": "BR4i9vI2xkqj",
        "outputId": "6aab6a95-61af-4707-e198-0f094ed7a431"
      },
      "execution_count": null,
      "outputs": [
        {
          "output_type": "stream",
          "name": "stdout",
          "text": [
            "nama_is nama_b: True\n"
          ]
        }
      ]
    },
    {
      "cell_type": "code",
      "source": [
        "#output False\n",
        "print('nama_a is not nama_b:', nama_a is not nama_b)"
      ],
      "metadata": {
        "colab": {
          "base_uri": "https://localhost:8080/"
        },
        "id": "hvyKEywQx4Ze",
        "outputId": "e68cc6d7-e6c6-41f5-8f0a-3ecd12173cce"
      },
      "execution_count": null,
      "outputs": [
        {
          "output_type": "stream",
          "name": "stdout",
          "text": [
            "nama_a is not nama_b: False\n"
          ]
        }
      ]
    },
    {
      "cell_type": "code",
      "source": [
        "#operator identitas\n",
        ">>> id(10)"
      ],
      "metadata": {
        "colab": {
          "base_uri": "https://localhost:8080/"
        },
        "id": "qY1Q6oOayOHS",
        "outputId": "4ff07e59-d952-4223-d445-da55db965ae8"
      },
      "execution_count": null,
      "outputs": [
        {
          "output_type": "execute_result",
          "data": {
            "text/plain": [
              "138754442641936"
            ]
          },
          "metadata": {},
          "execution_count": 23
        }
      ]
    },
    {
      "cell_type": "code",
      "source": [
        ">>> id(10)"
      ],
      "metadata": {
        "colab": {
          "base_uri": "https://localhost:8080/"
        },
        "id": "QWoGtmW2yzbt",
        "outputId": "62130525-dbcc-4acd-c3d9-d95c8a07df0a"
      },
      "execution_count": null,
      "outputs": [
        {
          "output_type": "execute_result",
          "data": {
            "text/plain": [
              "138754442641936"
            ]
          },
          "metadata": {},
          "execution_count": 24
        }
      ]
    },
    {
      "cell_type": "code",
      "source": [
        ">>> id('merah')"
      ],
      "metadata": {
        "colab": {
          "base_uri": "https://localhost:8080/"
        },
        "id": "TOGdcv_lzMZ_",
        "outputId": "750a7017-d0f0-43c2-9435-6d5ffcd285c6"
      },
      "execution_count": null,
      "outputs": [
        {
          "output_type": "execute_result",
          "data": {
            "text/plain": [
              "138753471321456"
            ]
          },
          "metadata": {},
          "execution_count": 25
        }
      ]
    },
    {
      "cell_type": "code",
      "source": [
        ">>> id('merah')"
      ],
      "metadata": {
        "colab": {
          "base_uri": "https://localhost:8080/"
        },
        "id": "MjWKtkEYzSH_",
        "outputId": "e05f0a62-af8c-49a6-8372-d3c4c1f7119e"
      },
      "execution_count": null,
      "outputs": [
        {
          "output_type": "execute_result",
          "data": {
            "text/plain": [
              "138753879576304"
            ]
          },
          "metadata": {},
          "execution_count": 26
        }
      ]
    }
  ],
  "metadata": {
    "colab": {
      "provenance": [],
      "authorship_tag": "ABX9TyOHvcl1+Z9gpqOJQVldb8c1",
      "include_colab_link": true
    },
    "kernelspec": {
      "display_name": "Python 3",
      "name": "python3"
    },
    "language_info": {
      "name": "python"
    }
  },
  "nbformat": 4,
  "nbformat_minor": 0
}