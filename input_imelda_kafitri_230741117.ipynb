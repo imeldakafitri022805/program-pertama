{
  "nbformat": 4,
  "nbformat_minor": 0,
  "metadata": {
    "colab": {
      "provenance": [],
      "toc_visible": true,
      "authorship_tag": "ABX9TyMWz/WIUgTlyTyqVAqYlDlI",
      "include_colab_link": true
    },
    "kernelspec": {
      "name": "python3",
      "display_name": "Python 3"
    },
    "language_info": {
      "name": "python"
    }
  },
  "cells": [
    {
      "cell_type": "markdown",
      "metadata": {
        "id": "view-in-github",
        "colab_type": "text"
      },
      "source": [
        "<a href=\"https://colab.research.google.com/github/imeldakafitri022805/program-pertama/blob/main/input_imelda_kafitri_230741117.ipynb\" target=\"_parent\"><img src=\"https://colab.research.google.com/assets/colab-badge.svg\" alt=\"Open In Colab\"/></a>"
      ]
    },
    {
      "cell_type": "code",
      "source": [
        "#input nilai statis vs nilai inputan user"
      ],
      "metadata": {
        "id": "dhCBB5lZ2hQv"
      },
      "execution_count": null,
      "outputs": []
    },
    {
      "cell_type": "code",
      "source": [
        "panjang = 20\n",
        "lebar = 5\n",
        "luas = panjang * lebar"
      ],
      "metadata": {
        "id": "C0i4vI_m24JW"
      },
      "execution_count": 20,
      "outputs": []
    },
    {
      "cell_type": "code",
      "source": [
        "print(\"luas = \", luas)"
      ],
      "metadata": {
        "colab": {
          "base_uri": "https://localhost:8080/"
        },
        "id": "3J-ZNLmL3FHo",
        "outputId": "1a01acfb-7960-4d1d-d522-80100f977db5"
      },
      "execution_count": 21,
      "outputs": [
        {
          "output_type": "stream",
          "name": "stdout",
          "text": [
            "luas =  100\n"
          ]
        }
      ]
    },
    {
      "cell_type": "code",
      "source": [
        "nama = input(imelda kafitri: ')"
      ],
      "metadata": {
        "id": "A1jfqUCSQ4db"
      },
      "execution_count": null,
      "outputs": []
    },
    {
      "cell_type": "code",
      "source": [
        "print('Halo,', nama, '..selamat datang')"
      ],
      "metadata": {
        "id": "r3cv3rGiQ_TN"
      },
      "execution_count": null,
      "outputs": []
    },
    {
      "cell_type": "code",
      "source": [
        "#membuat input pada python\n"
      ],
      "metadata": {
        "id": "4dPy-c8uRida"
      },
      "execution_count": 27,
      "outputs": []
    },
    {
      "cell_type": "code",
      "source": [
        "nama = input(imelda kafitri:'')"
      ],
      "metadata": {
        "id": "nqvILV7ARwYx"
      },
      "execution_count": null,
      "outputs": []
    },
    {
      "cell_type": "code",
      "source": [
        "print9 variable nama bertipe data:', type(imelda kafitri))'"
      ],
      "metadata": {
        "id": "MawEcw5wR9Z1"
      },
      "execution_count": null,
      "outputs": []
    },
    {
      "cell_type": "code",
      "source": [
        "#input"
      ],
      "metadata": {
        "id": "6mE9GCEoSR_h"
      },
      "execution_count": 28,
      "outputs": []
    },
    {
      "cell_type": "code",
      "source": [
        "print('kalkulator luas persegi panjang\\n')"
      ],
      "metadata": {
        "colab": {
          "base_uri": "https://localhost:8080/"
        },
        "id": "PXfKZcPv94WP",
        "outputId": "6c1ed5ea-e87f-4f9c-8286-cb158937251a"
      },
      "execution_count": null,
      "outputs": [
        {
          "output_type": "stream",
          "name": "stdout",
          "text": [
            "kalkulator luas persegi panjang\n",
            "\n"
          ]
        }
      ]
    },
    {
      "cell_type": "code",
      "source": [
        "panjang = input('masukan panjang\\n')"
      ],
      "metadata": {
        "id": "42iRs3DQSg4S"
      },
      "execution_count": null,
      "outputs": []
    },
    {
      "cell_type": "code",
      "source": [
        "lebar = input('masukkan lebar: ')"
      ],
      "metadata": {
        "id": "BZ79VidDSoot"
      },
      "execution_count": null,
      "outputs": []
    },
    {
      "cell_type": "code",
      "source": [
        "print('luas =', panjang * lebar)"
      ],
      "metadata": {
        "id": "1Cqw0d4-SyAl"
      },
      "execution_count": null,
      "outputs": []
    },
    {
      "cell_type": "code",
      "source": [
        "panjang: 10"
      ],
      "metadata": {
        "id": "VV3xtEXXTanu"
      },
      "execution_count": 37,
      "outputs": []
    },
    {
      "cell_type": "code",
      "source": [
        "lebar : 5"
      ],
      "metadata": {
        "id": "HaYyve2LTlJm"
      },
      "execution_count": 38,
      "outputs": []
    },
    {
      "cell_type": "code",
      "source": [
        "#traceback (most recent call last)"
      ],
      "metadata": {
        "id": "YStkuLCrTwWr"
      },
      "execution_count": 33,
      "outputs": []
    },
    {
      "cell_type": "code",
      "source": [
        "file \"02-int.py\", line 5, in <module>"
      ],
      "metadata": {
        "colab": {
          "base_uri": "https://localhost:8080/",
          "height": 141
        },
        "id": "9_LGVMoNUBF0",
        "outputId": "990a654e-c1ca-4a9f-d043-ce4c2ab6e6dc"
      },
      "execution_count": 35,
      "outputs": [
        {
          "output_type": "error",
          "ename": "SyntaxError",
          "evalue": "ignored",
          "traceback": [
            "\u001b[0;36m  File \u001b[0;32m\"<ipython-input-35-2d94823681ea>\"\u001b[0;36m, line \u001b[0;32m1\u001b[0m\n\u001b[0;31m    file \"02-int.py\", line 5, in <module>\u001b[0m\n\u001b[0m         ^\u001b[0m\n\u001b[0;31mSyntaxError\u001b[0m\u001b[0;31m:\u001b[0m invalid syntax\n"
          ]
        }
      ]
    }
  ]
}