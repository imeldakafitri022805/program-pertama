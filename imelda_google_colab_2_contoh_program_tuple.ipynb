{
  "nbformat": 4,
  "nbformat_minor": 0,
  "metadata": {
    "colab": {
      "provenance": [],
      "authorship_tag": "ABX9TyPyNZH3NBJWqkFwmFZLgoCm",
      "include_colab_link": true
    },
    "kernelspec": {
      "name": "python3",
      "display_name": "Python 3"
    },
    "language_info": {
      "name": "python"
    }
  },
  "cells": [
    {
      "cell_type": "markdown",
      "metadata": {
        "id": "view-in-github",
        "colab_type": "text"
      },
      "source": [
        "<a href=\"https://colab.research.google.com/github/imeldakafitri022805/program-pertama/blob/main/imelda_google_colab_2_contoh_program_tuple.ipynb\" target=\"_parent\"><img src=\"https://colab.research.google.com/assets/colab-badge.svg\" alt=\"Open In Colab\"/></a>"
      ]
    },
    {
      "cell_type": "code",
      "execution_count": null,
      "metadata": {
        "id": "K2-OGMgkGFD2"
      },
      "outputs": [],
      "source": []
    },
    {
      "cell_type": "markdown",
      "source": [
        "#TUPLE = DAPAT MENYIMPAN LEBIH DARI SATU NILAI\n",
        "#DALAM 1 VARIABEL.\n",
        "#TUPLE MEMPUNYAI SIFAT ORDERED/SECARA URUT\n",
        "#DAN TIDAK BISA DI UBAH\n",
        "#NILAI TUPLE TIDAK BISA DI UBAH"
      ],
      "metadata": {
        "id": "fH7aPEXcNatK"
      }
    },
    {
      "cell_type": "code",
      "source": [
        "print(\"CONTOH TUPLE\")"
      ],
      "metadata": {
        "colab": {
          "base_uri": "https://localhost:8080/"
        },
        "id": "xrCidSgbN-G-",
        "outputId": "546f2d8a-63f8-49bc-a162-a42cb8833c59"
      },
      "execution_count": null,
      "outputs": [
        {
          "output_type": "stream",
          "name": "stdout",
          "text": [
            "CONTOH TUPLE\n"
          ]
        }
      ]
    },
    {
      "cell_type": "code",
      "source": [
        "name = (\"Imelda\", \"Anggun\", \"Amanda\")"
      ],
      "metadata": {
        "id": "jJ5LgRc9OWp-"
      },
      "execution_count": null,
      "outputs": []
    },
    {
      "cell_type": "code",
      "source": [
        "print(name)"
      ],
      "metadata": {
        "colab": {
          "base_uri": "https://localhost:8080/"
        },
        "id": "YCPLIG4MO82H",
        "outputId": "e26dcdf9-06b5-4d71-c8e1-397595a37a92"
      },
      "execution_count": null,
      "outputs": [
        {
          "output_type": "stream",
          "name": "stdout",
          "text": [
            "('Imelda', 'Anggun', 'Amanda')\n"
          ]
        }
      ]
    },
    {
      "cell_type": "code",
      "source": [
        "print('') #baris baru"
      ],
      "metadata": {
        "colab": {
          "base_uri": "https://localhost:8080/"
        },
        "id": "Quez_0_oPKiq",
        "outputId": "985d5194-fcc1-4ec0-b8c8-153defbc1a54"
      },
      "execution_count": null,
      "outputs": [
        {
          "output_type": "stream",
          "name": "stdout",
          "text": [
            "\n"
          ]
        }
      ]
    },
    {
      "cell_type": "code",
      "source": [
        "print(name[0])"
      ],
      "metadata": {
        "colab": {
          "base_uri": "https://localhost:8080/"
        },
        "id": "uGQUo09_PVY4",
        "outputId": "4dd4fcf0-2db0-4c9e-8a33-fb567bb3fe39"
      },
      "execution_count": null,
      "outputs": [
        {
          "output_type": "stream",
          "name": "stdout",
          "text": [
            "Imelda\n"
          ]
        }
      ]
    },
    {
      "cell_type": "code",
      "source": [
        "print(name[1])"
      ],
      "metadata": {
        "colab": {
          "base_uri": "https://localhost:8080/"
        },
        "id": "rHIJIAbLPjoz",
        "outputId": "da6f9c94-7f34-444e-c135-0e5e1025ca0a"
      },
      "execution_count": null,
      "outputs": [
        {
          "output_type": "stream",
          "name": "stdout",
          "text": [
            "Anggun\n"
          ]
        }
      ]
    },
    {
      "cell_type": "code",
      "source": [
        "print(name[2])"
      ],
      "metadata": {
        "colab": {
          "base_uri": "https://localhost:8080/"
        },
        "id": "2tGeE4dXQKaQ",
        "outputId": "c6e25dc3-a9bf-4df3-a2e9-7be0aa329d76"
      },
      "execution_count": null,
      "outputs": [
        {
          "output_type": "stream",
          "name": "stdout",
          "text": [
            "Amanda\n"
          ]
        }
      ]
    },
    {
      "cell_type": "code",
      "source": [
        "for a in name:\n",
        "    print(a)"
      ],
      "metadata": {
        "colab": {
          "base_uri": "https://localhost:8080/"
        },
        "id": "WttiiFwZQrI0",
        "outputId": "6078ae5b-a34c-4c49-92f3-4b16a8974067"
      },
      "execution_count": null,
      "outputs": [
        {
          "output_type": "stream",
          "name": "stdout",
          "text": [
            "Imelda\n",
            "Anggun\n",
            "Amanda\n"
          ]
        }
      ]
    },
    {
      "cell_type": "code",
      "source": [
        "print('')#baris baru"
      ],
      "metadata": {
        "colab": {
          "base_uri": "https://localhost:8080/"
        },
        "id": "GDUFrbuCQ5ZT",
        "outputId": "37d27f9e-dd42-4f64-fefc-65ec2ada35fa"
      },
      "execution_count": null,
      "outputs": [
        {
          "output_type": "stream",
          "name": "stdout",
          "text": [
            "\n"
          ]
        }
      ]
    },
    {
      "cell_type": "code",
      "source": [
        "print(\"metode tuple\")"
      ],
      "metadata": {
        "colab": {
          "base_uri": "https://localhost:8080/"
        },
        "id": "8Mf4NfcmRPXI",
        "outputId": "954c3566-4d0d-43b2-e6b7-aed6724ab6b0"
      },
      "execution_count": null,
      "outputs": [
        {
          "output_type": "stream",
          "name": "stdout",
          "text": [
            "metode tuple\n"
          ]
        }
      ]
    },
    {
      "cell_type": "code",
      "source": [
        "print(name.count(\"Imelda\"))"
      ],
      "metadata": {
        "colab": {
          "base_uri": "https://localhost:8080/"
        },
        "id": "HJhlKldeRf01",
        "outputId": "f973ad31-cd9c-4fa9-9813-a64c767db084"
      },
      "execution_count": null,
      "outputs": [
        {
          "output_type": "stream",
          "name": "stdout",
          "text": [
            "1\n"
          ]
        }
      ]
    },
    {
      "cell_type": "code",
      "source": [
        "print(name.index(\"Amanda\"))"
      ],
      "metadata": {
        "colab": {
          "base_uri": "https://localhost:8080/"
        },
        "id": "HFQT6imWRxuD",
        "outputId": "8190cebd-a023-478d-c12c-5a4566e234a7"
      },
      "execution_count": null,
      "outputs": [
        {
          "output_type": "stream",
          "name": "stdout",
          "text": [
            "2\n"
          ]
        }
      ]
    }
  ]
}